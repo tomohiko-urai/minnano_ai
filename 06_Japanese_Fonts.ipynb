{
  "nbformat": 4,
  "nbformat_minor": 0,
  "metadata": {
    "colab": {
      "provenance": [],
      "include_colab_link": true
    },
    "kernelspec": {
      "name": "python3",
      "display_name": "Python 3"
    },
    "language_info": {
      "name": "python"
    }
  },
  "cells": [
    {
      "cell_type": "markdown",
      "metadata": {
        "id": "view-in-github",
        "colab_type": "text"
      },
      "source": [
        "<a href=\"https://colab.research.google.com/github/tomohiko-urai/minnano_ai/blob/master/06_Japanese_Fonts.ipynb\" target=\"_parent\"><img src=\"https://colab.research.google.com/assets/colab-badge.svg\" alt=\"Open In Colab\"/></a>"
      ]
    },
    {
      "cell_type": "markdown",
      "source": [
        "# Google Fonts をインストールしてプロットに使用する"
      ],
      "metadata": {
        "id": "deHV7QuNDdeO"
      }
    },
    {
      "cell_type": "code",
      "execution_count": null,
      "metadata": {
        "colab": {
          "base_uri": "https://localhost:8080/"
        },
        "id": "AYt94bm5lSZ3",
        "outputId": "07eed7bc-ab19-4304-bd0d-5564d588c9d8"
      },
      "outputs": [
        {
          "output_type": "stream",
          "name": "stdout",
          "text": [
            "--2023-02-11 02:01:23--  https://github.com/googlefonts/noto-cjk/raw/main/google-fonts/NotoSansJP%5Bwght%5D.ttf\n",
            "Resolving github.com (github.com)... 140.82.114.4\n",
            "Connecting to github.com (github.com)|140.82.114.4|:443... connected.\n",
            "HTTP request sent, awaiting response... 302 Found\n",
            "Location: https://raw.githubusercontent.com/googlefonts/noto-cjk/main/google-fonts/NotoSansJP%5Bwght%5D.ttf [following]\n",
            "--2023-02-11 02:01:23--  https://raw.githubusercontent.com/googlefonts/noto-cjk/main/google-fonts/NotoSansJP%5Bwght%5D.ttf\n",
            "Resolving raw.githubusercontent.com (raw.githubusercontent.com)... 185.199.108.133, 185.199.109.133, 185.199.110.133, ...\n",
            "Connecting to raw.githubusercontent.com (raw.githubusercontent.com)|185.199.108.133|:443... connected.\n",
            "HTTP request sent, awaiting response... 200 OK\n",
            "Length: 9589900 (9.1M) [application/octet-stream]\n",
            "Saving to: ‘NotoSansJP[wght].ttf.1’\n",
            "\n",
            "NotoSansJP[wght].tt 100%[===================>]   9.15M  --.-KB/s    in 0.09s   \n",
            "\n",
            "2023-02-11 02:01:23 (96.7 MB/s) - ‘NotoSansJP[wght].ttf.1’ saved [9589900/9589900]\n",
            "\n"
          ]
        }
      ],
      "source": [
        "!wget https://github.com/googlefonts/noto-cjk/raw/main/google-fonts/NotoSansJP%5Bwght%5D.ttf"
      ]
    },
    {
      "cell_type": "code",
      "source": [
        "import cv2\n",
        "import numpy as np\n",
        "import matplotlib.pyplot as plt\n",
        "\n",
        "from google.colab.patches import cv2_imshow"
      ],
      "metadata": {
        "id": "_ZByinFXlk9G"
      },
      "execution_count": null,
      "outputs": []
    },
    {
      "cell_type": "code",
      "source": [
        "from matplotlib import font_manager as fm\n",
        "\n",
        "font_file = fm.findSystemFonts('.')\n",
        "fm.fontManager.addfont(font_file[0])\n",
        "fp = fm.FontProperties(fname=font_file[0])\n",
        "print(fp.get_name())"
      ],
      "metadata": {
        "colab": {
          "base_uri": "https://localhost:8080/"
        },
        "id": "udGR4XH-lYcP",
        "outputId": "f43f3faf-ffbd-4561-bd49-bd4e8f011047"
      },
      "execution_count": null,
      "outputs": [
        {
          "output_type": "stream",
          "name": "stdout",
          "text": [
            "Noto Sans JP\n"
          ]
        }
      ]
    },
    {
      "cell_type": "code",
      "source": [
        "font = {\n",
        "  'family': 'Noto Sans JP',\n",
        "  'weight': 'bold',\n",
        "  'size': 16,\n",
        "}\n",
        "plt.rc('font', **font)"
      ],
      "metadata": {
        "id": "FgMdx2g6lY4-"
      },
      "execution_count": null,
      "outputs": []
    },
    {
      "cell_type": "code",
      "source": [
        "gamma = 3.0\n",
        "\n",
        "filter = (np.arange(256) / 255) ** gamma * 255\n",
        "filter = np.clip(filter, 0, 255).astype(np.uint8)\n",
        "plt.title('ガンマ補正')\n",
        "plt.plot(filter)\n",
        "plt.show()"
      ],
      "metadata": {
        "colab": {
          "base_uri": "https://localhost:8080/",
          "height": 294
        },
        "id": "Fx8-DJu-laQ1",
        "outputId": "ad1592f7-0aaa-4cc2-fcda-47e3565830d4"
      },
      "execution_count": null,
      "outputs": [
        {
          "output_type": "display_data",
          "data": {
            "text/plain": [
              "<Figure size 432x288 with 1 Axes>"
            ],
            "image/png": "[encoded data removed]"
          },
          "metadata": {
            "needs_background": "light"
          }
        }
      ]
    }
  ]
}