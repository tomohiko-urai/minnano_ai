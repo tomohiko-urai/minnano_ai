{
  "nbformat": 4,
  "nbformat_minor": 0,
  "metadata": {
    "colab": {
      "provenance": [],
      "include_colab_link": true
    },
    "kernelspec": {
      "name": "python3",
      "display_name": "Python 3"
    },
    "language_info": {
      "name": "python"
    }
  },
  "cells": [
    {
      "cell_type": "markdown",
      "metadata": {
        "id": "view-in-github",
        "colab_type": "text"
      },
      "source": [
        "<a href=\"https://colab.research.google.com/github/tomohiko-urai/minnano_ai/blob/master/09_Diff.ipynb\" target=\"_parent\"><img src=\"https://colab.research.google.com/assets/colab-badge.svg\" alt=\"Open In Colab\"/></a>"
      ]
    },
    {
      "cell_type": "markdown",
      "source": [
        "# 画像の差分をもとめる"
      ],
      "metadata": {
        "id": "zp0Lxym7N450"
      }
    },
    {
      "cell_type": "markdown",
      "source": [
        "## サンプル１\n",
        "<img src=\"https://storage.googleapis.com/iotcolab2023/020144095.jpg\" width=\"30%\"> a1.jpg\n",
        "<img src=\"https://storage.googleapis.com/iotcolab2023/020155653.jpg\" width=\"30%\"> b1.jpg\n"
      ],
      "metadata": {
        "id": "yepnfbl5OT_D"
      }
    },
    {
      "cell_type": "markdown",
      "source": [
        "## サンプル２\n",
        "\n",
        "<img src=\"https://storage.googleapis.com/iotcolab2023/circle_rectangle1.png\" width=\"30%\"> a2.png\n",
        "<img src=\"https://storage.googleapis.com/iotcolab2023/circle_rectangle2.png\" width=\"30%\"> b2.png"
      ],
      "metadata": {
        "id": "Equc8_sXRevl"
      }
    },
    {
      "cell_type": "code",
      "source": [
        "!wget https://storage.googleapis.com/iotcolab2023/020144095.jpg -O a1.jpg\n",
        "!wget https://storage.googleapis.com/iotcolab2023/020155653.jpg -O b1.jpg\n",
        "!wget https://storage.googleapis.com/iotcolab2023/circle_rectangle1.png -O a2.png\n",
        "!wget https://storage.googleapis.com/iotcolab2023/circle_rectangle2.png -O b2.png"
      ],
      "metadata": {
        "colab": {
          "base_uri": "https://localhost:8080/"
        },
        "id": "GyR6ZquFKpYr",
        "outputId": "0e95b8c4-747f-488c-c92b-593978f6c63f"
      },
      "execution_count": null,
      "outputs": [
        {
          "output_type": "stream",
          "name": "stdout",
          "text": [
            "--2023-02-11 02:06:38--  https://storage.googleapis.com/iotcolab2023/020144095.jpg\n",
            "Resolving storage.googleapis.com (storage.googleapis.com)... 172.217.193.128, 172.217.203.128, 172.253.123.128, ...\n",
            "Connecting to storage.googleapis.com (storage.googleapis.com)|172.217.193.128|:443... connected.\n",
            "HTTP request sent, awaiting response... 200 OK\n",
            "Length: 508210 (496K) [image/jpeg]\n",
            "Saving to: ‘a1.jpg’\n",
            "\n",
            "\ra1.jpg                0%[                    ]       0  --.-KB/s               \ra1.jpg              100%[===================>] 496.30K  --.-KB/s    in 0.006s  \n",
            "\n",
            "2023-02-11 02:06:39 (84.4 MB/s) - ‘a1.jpg’ saved [508210/508210]\n",
            "\n",
            "--2023-02-11 02:06:39--  https://storage.googleapis.com/iotcolab2023/020155653.jpg\n",
            "Resolving storage.googleapis.com (storage.googleapis.com)... 172.217.193.128, 172.217.203.128, 172.253.123.128, ...\n",
            "Connecting to storage.googleapis.com (storage.googleapis.com)|172.217.193.128|:443... connected.\n",
            "HTTP request sent, awaiting response... 200 OK\n",
            "Length: 545417 (533K) [image/jpeg]\n",
            "Saving to: ‘b1.jpg’\n",
            "\n",
            "b1.jpg              100%[===================>] 532.63K  --.-KB/s    in 0.006s  \n",
            "\n",
            "2023-02-11 02:06:39 (85.2 MB/s) - ‘b1.jpg’ saved [545417/545417]\n",
            "\n",
            "--2023-02-11 02:06:39--  https://storage.googleapis.com/iotcolab2023/circle_rectangle1.png\n",
            "Resolving storage.googleapis.com (storage.googleapis.com)... 172.217.193.128, 172.217.203.128, 172.253.123.128, ...\n",
            "Connecting to storage.googleapis.com (storage.googleapis.com)|172.217.193.128|:443... connected.\n",
            "HTTP request sent, awaiting response... 200 OK\n",
            "Length: 13950 (14K) [image/png]\n",
            "Saving to: ‘a2.png’\n",
            "\n",
            "a2.png              100%[===================>]  13.62K  --.-KB/s    in 0s      \n",
            "\n",
            "2023-02-11 02:06:39 (52.5 MB/s) - ‘a2.png’ saved [13950/13950]\n",
            "\n",
            "--2023-02-11 02:06:39--  https://storage.googleapis.com/iotcolab2023/circle_rectangle2.png\n",
            "Resolving storage.googleapis.com (storage.googleapis.com)... 172.217.193.128, 172.217.203.128, 172.253.123.128, ...\n",
            "Connecting to storage.googleapis.com (storage.googleapis.com)|172.217.193.128|:443... connected.\n",
            "HTTP request sent, awaiting response... 200 OK\n",
            "Length: 13230 (13K) [image/png]\n",
            "Saving to: ‘b2.png’\n",
            "\n",
            "b2.png              100%[===================>]  12.92K  --.-KB/s    in 0s      \n",
            "\n",
            "2023-02-11 02:06:39 (73.4 MB/s) - ‘b2.png’ saved [13230/13230]\n",
            "\n"
          ]
        }
      ]
    },
    {
      "cell_type": "code",
      "execution_count": null,
      "metadata": {
        "id": "nMctxj1wKgSI"
      },
      "outputs": [],
      "source": [
        "import cv2\n",
        "import datetime\n",
        "import matplotlib.pyplot as plt\n",
        "import numpy as np\n",
        "import os\n",
        "\n",
        "from google.colab.patches import cv2_imshow"
      ]
    },
    {
      "cell_type": "code",
      "source": [
        "fileNo = '2' #@param [\"1\", \"2\"]\n",
        "\n",
        "if fileNo == '1':\n",
        "  filename = ['a1.jpg', 'b1.jpg']\n",
        "else:  \n",
        "  filename = ['a2.png', 'b2.png']\n",
        "\n",
        "imgA = cv2.imread(filename[0])\n",
        "imgB = cv2.imread(filename[1])\n",
        "\n",
        "# OpenCVはBRGフォーマットなので、RGBへ変換する\n",
        "imgA_rgb = cv2.cvtColor(imgA, cv2.COLOR_BGR2RGB)\n",
        "imgB_rgb = cv2.cvtColor(imgB, cv2.COLOR_BGR2RGB)\n",
        "\n",
        "# 画像サイズを取得\n",
        "hA, wA, cA = imgA.shape[:3]\n",
        "hB, wB, cA = imgB.shape [:3]\n",
        "\n",
        "px = 1/plt.rcParams['figure.dpi']\n",
        "fig, axs = plt.subplots(1, 2, figsize=(1024*px, 384*px))\n",
        "axs[0].imshow(imgA_rgb)\n",
        "axs[1].imshow(imgB_rgb)"
      ],
      "metadata": {
        "colab": {
          "base_uri": "https://localhost:8080/",
          "height": 346
        },
        "id": "RALvSB8sKp9R",
        "outputId": "e946aea3-08ff-4c32-eff4-5b98e309f1ff"
      },
      "execution_count": null,
      "outputs": [
        {
          "output_type": "execute_result",
          "data": {
            "text/plain": [
              "<matplotlib.image.AxesImage at 0x7f27bca18b20>"
            ]
          },
          "metadata": {},
          "execution_count": 3
        },
        {
          "output_type": "display_data",
          "data": {
            "text/plain": [
              "<Figure size 1024x384 with 2 Axes>"
            ],
            "image/png": "[encoded data removed]"
          },
          "metadata": {
            "needs_background": "light"
          }
        }
      ]
    },
    {
      "cell_type": "code",
      "source": [
        "# 特徴量検出器を作成\n",
        "akaze = cv2.AKAZE_create()\n",
        "\n",
        "# 二つの画像の特徴点を抽出\n",
        "kpA, desA = akaze.detectAndCompute(imgA, None)\n",
        "kpB, desB = akaze.detectAndCompute(imgB, None)"
      ],
      "metadata": {
        "id": "8GwDx3-gKsfh"
      },
      "execution_count": null,
      "outputs": []
    },
    {
      "cell_type": "code",
      "source": [
        "# BFMatcher型のオブジェクトを作成する\n",
        "bf = cv2.BFMatcher(cv2.NORM_HAMMING, crossCheck=True)\n",
        "\n",
        "# 記述子を一致させる\n",
        "matches = bf.match(desA, desB)\n",
        "\n",
        "# 距離の順に並べ替える\n",
        "matches = sorted(matches, key = lambda x:x.distance)\n",
        "\n",
        "# 先頭から上位約15%を取り出す\n",
        "good = matches[:int(len(matches) * 0.15)]\n",
        "\n",
        "# 特徴点の座標を取り出す\n",
        "src_pts = np.float32([kpA[m.queryIdx].pt for m in good]).reshape(-1, 1, 2)\n",
        "dst_pts = np.float32([kpB[m.trainIdx].pt for m in good]).reshape(-1, 1, 2)\n",
        "\n",
        "# ホモグラフィ変換行列をもとめる\n",
        "## ホモグラフィとは、平面を射影変換を用いて別の平面に射影すること\n",
        "H, mask = cv2.findHomography(dst_pts, src_pts, cv2.RANSAC, 5.0)\n",
        "\n",
        "# imgRightを射影変換。\n",
        "imgB_transform = cv2.warpPerspective(imgB, H, (wA, hA))"
      ],
      "metadata": {
        "id": "3KC66V9EKuEK"
      },
      "execution_count": null,
      "outputs": []
    },
    {
      "cell_type": "code",
      "source": [
        "# imgAとdst_imgの差分を求めてresultとする。グレースケールに変換。\n",
        "result = cv2.absdiff(imgA, imgB_transform)\n",
        "# result = cv2.absdiff(imgA, imgB)\n",
        "result_gray = cv2.cvtColor(result, cv2.COLOR_BGR2GRAY)\n",
        "# 二値化\n",
        "_, result_bin = cv2.threshold(result_gray, 50, 255, cv2.THRESH_BINARY) # 閾値は50"
      ],
      "metadata": {
        "id": "oEnGL2lKK0UT"
      },
      "execution_count": null,
      "outputs": []
    },
    {
      "cell_type": "code",
      "source": [
        "cv2_imshow(result_bin)"
      ],
      "metadata": {
        "colab": {
          "base_uri": "https://localhost:8080/",
          "height": 562
        },
        "id": "dFu0PTFUK1I7",
        "outputId": "add9e6e0-07ac-4aed-e0b4-348594139d3b"
      },
      "execution_count": null,
      "outputs": [
        {
          "output_type": "display_data",
          "data": {
            "text/plain": [
              "<PIL.Image.Image image mode=L size=710x545 at 0x7F27BC962F10>"
            ],
            "image/png": "[encoded data removed]"
          },
          "metadata": {}
        }
      ]
    },
    {
      "cell_type": "code",
      "source": [
        "# 二値画像をRGB形式に変換し、2枚の画像を重ねる。\n",
        "result_bin_rgb = cv2.cvtColor(result_bin, cv2.COLOR_GRAY2RGB)\n",
        "result_add = cv2.addWeighted(imgA, 0.3, result_bin_rgb, 0.7, 2.2) # ２.２はガンマ値。大きくすると白っぽくなる"
      ],
      "metadata": {
        "id": "QhLe996cK95B"
      },
      "execution_count": null,
      "outputs": []
    },
    {
      "cell_type": "code",
      "source": [
        "cv2_imshow(result_add)"
      ],
      "metadata": {
        "colab": {
          "base_uri": "https://localhost:8080/",
          "height": 562
        },
        "id": "3Q8LdhfZK_IU",
        "outputId": "8426a785-d2a6-4383-fc06-6ee5697ed1d5"
      },
      "execution_count": null,
      "outputs": [
        {
          "output_type": "display_data",
          "data": {
            "text/plain": [
              "<PIL.Image.Image image mode=RGB size=710x545 at 0x7F280F85EF70>"
            ],
            "image/png": "[encoded data removed]"
          },
          "metadata": {}
        }
      ]
    }
  ]
}