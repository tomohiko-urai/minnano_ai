{
  "nbformat": 4,
  "nbformat_minor": 0,
  "metadata": {
    "colab": {
      "provenance": [],
      "include_colab_link": true
    },
    "kernelspec": {
      "name": "python3",
      "display_name": "Python 3"
    },
    "language_info": {
      "name": "python"
    }
  },
  "cells": [
    {
      "cell_type": "markdown",
      "metadata": {
        "id": "view-in-github",
        "colab_type": "text"
      },
      "source": [
        "<a href=\"https://colab.research.google.com/github/tomohiko-urai/minnano_ai/blob/master/011_Colab_Basic.ipynb\" target=\"_parent\"><img src=\"https://colab.research.google.com/assets/colab-badge.svg\" alt=\"Open In Colab\"/></a>"
      ]
    },
    {
      "cell_type": "markdown",
      "source": [
        "# Google Colaboratory の基本的なこと"
      ],
      "metadata": {
        "id": "Qs7sdOZBFyWX"
      }
    },
    {
      "cell_type": "markdown",
      "source": [
        "<div class=\"markdown-google-sans\">\n",
        "  <h1>Colab とは</h1>\n",
        "</div>\n",
        "\n",
        "Colab（正式名称「Colaboratory」）では、ブラウザ上で Python を記述、実行できます。以下の機能を使用できます。 \n",
        "- 環境構築が不要\n",
        "- GPU に料金なしでアクセス\n",
        "- 簡単に共有\n",
        "\n",
        "Colab ノートブックは、Colab がホストする Jupyter ノートブックです。Jupyter プロジェクトの詳細については、<a href=\"https://www.jupyter.org\">jupyter.org</a> をご覧ください。"
      ],
      "metadata": {
        "id": "w_S52zRoGMj5"
      }
    },
    {
      "cell_type": "markdown",
      "source": [
        "## <strong>はじめに</strong>\n",
        "\n",
        "このドキュメントは静的なウェブページではなく、<strong>Colab ノートブック</strong>という、コードを記述して実行できるインタラクティブなクラウド環境です。\n",
        "\n",
        "たとえば次の<strong>コードセル</strong>には、値を計算して変数に保存し、結果を出力する短い Python スクリプトが記述されています。"
      ],
      "metadata": {
        "id": "tRXNON12HX3n"
      }
    },
    {
      "cell_type": "code",
      "execution_count": null,
      "metadata": {
        "colab": {
          "base_uri": "https://localhost:8080/"
        },
        "id": "6gQ2qHF8FoQQ",
        "outputId": "ed87b0df-13c1-4221-ce51-b7ba65de1b87"
      },
      "outputs": [
        {
          "output_type": "execute_result",
          "data": {
            "text/plain": [
              "86400"
            ]
          },
          "metadata": {},
          "execution_count": 1
        }
      ],
      "source": [
        "seconds_in_a_day = 24 * 60 * 60\n",
        "seconds_in_a_day"
      ]
    },
    {
      "cell_type": "markdown",
      "source": [
        "上記のセルのコードを実行するには、セルをクリックして選択し、コードの左側にある実行ボタンをクリックするか、キーボード ショートカット「command+return」または「Ctrl+Enter」を使用します。コードはセルをクリックしてそのまま編集できます。\n",
        "\n",
        "<strong>1 つのセルで定義した変数は、後で他のセルで使用できます。</strong>"
      ],
      "metadata": {
        "id": "PBeN_eMGH_Cx"
      }
    },
    {
      "cell_type": "code",
      "source": [
        "seconds_in_a_week = 7 * seconds_in_a_day\n",
        "seconds_in_a_week"
      ],
      "metadata": {
        "colab": {
          "base_uri": "https://localhost:8080/"
        },
        "id": "UAgRE3sdIRRQ",
        "outputId": "ddd21a17-46ec-423d-bc38-35a1322f9efd"
      },
      "execution_count": null,
      "outputs": [
        {
          "output_type": "execute_result",
          "data": {
            "text/plain": [
              "604800"
            ]
          },
          "metadata": {},
          "execution_count": 2
        }
      ]
    },
    {
      "cell_type": "markdown",
      "source": [
        "Colab ノートブックを使用すると、<strong>実行可能コード</strong>と<strong>リッチテキスト</strong>（<strong>画像</strong>、<strong>HTML</strong>、<strong>LaTeX</strong> なども可）を 1 つのドキュメントで記述できます。自分の Colab ノートブックを作成すると、Google ドライブ に保存されます。Colab ノートブックは、同僚や友人と簡単に共有し、コメントの記入や編集をしてもらうことができます。"
      ],
      "metadata": {
        "id": "8hhswsi0Idd4"
      }
    },
    {
      "cell_type": "markdown",
      "source": [
        "# 概要"
      ],
      "metadata": {
        "id": "XerGsiEGKJBv"
      }
    },
    {
      "cell_type": "markdown",
      "source": [
        "## セル\n",
        "ノートブックはセルのリストです。セルには、説明テキストまたは実行可能コードとその出力が含まれます。セルをクリックして選択します。"
      ],
      "metadata": {
        "id": "1Wq1gyXTKO1h"
      }
    },
    {
      "cell_type": "markdown",
      "source": [
        "### コード セル\n",
        "以下はコードセルです。ツールバー ボタンが CONNECTED を示したら、セルをクリックして選択し、次の方法で内容を実行します。\n",
        "\n",
        "* セルの左側にある実行アイコンをクリックします。\n",
        "* Cmd/Ctrl+Enter を入力してセルをその場で実行します。\n",
        "* Shift+Enter を入力してセルを実行し、フォーカスを次のセルに移動します (存在しない場合はセルが追加されます)。または\n",
        "* Alt+Enter と入力してセルを実行し、そのすぐ下に新しいコード セルを挿入します。\n",
        "\n",
        "ランタイム メニューには、一部またはすべてのセルを実行するための追加オプションがあります。\n"
      ],
      "metadata": {
        "id": "Z5s6BBOUKpPC"
      }
    },
    {
      "cell_type": "code",
      "source": [
        "a = 10\n",
        "a"
      ],
      "metadata": {
        "id": "2THX-kYELnZq",
        "colab": {
          "base_uri": "https://localhost:8080/"
        },
        "outputId": "ca70f5e4-1601-4c53-f52d-73cd6c387ae9"
      },
      "execution_count": null,
      "outputs": [
        {
          "output_type": "execute_result",
          "data": {
            "text/plain": [
              "10"
            ]
          },
          "metadata": {},
          "execution_count": 3
        }
      ]
    },
    {
      "cell_type": "markdown",
      "source": [
        "### テキスト セル\n",
        "これはテキストセルです。このセルをダブルクリックして編集できます。テキスト セルはマークダウン構文を使用します。\n",
        "\n",
        "LaTeX を使用してテキスト セルに数式を追加し、MathJax でレンダリングすることもできます。 \\$ 記号のペア内にステートメントを配置するだけです。 \n",
        "\n",
        "例）  `$\\sqrt{3x-1}+(1+x)^2$` は、$\\sqrt{3x-1}+(1+x)^2$ になります。"
      ],
      "metadata": {
        "id": "ZUZHnVewL0Zy"
      }
    },
    {
      "cell_type": "markdown",
      "source": [
        "### セルの追加と移動\n",
        "セル間をホバーすると表示される +コード および +テキスト ボタンを使用して、新しいセルを追加できます。 これらのボタンはノートブックの上のツールバーにもあり、現在選択されているセルの下にセルを追加するために使用できます。\n",
        "\n",
        "セルを選択し、上部のツールバーで↑ [セルを上へ] または↓ [セルを下へ] をクリックすると、セルを移動できます。\n",
        "\n",
        "連続するセルは、１つのセルの外側からグループを介してドラッグする「なげなわ選択」によって選択できます。  隣接していないセルは、１つをクリックしてから Ctrl キーを押しながら別のセルをクリックすることで、同時に選択できます。同様に、Ctrl の代わりに Shift を使用すると、中間のセルがすべて選択されます。"
      ],
      "metadata": {
        "id": "CGlqMsxfMv9N"
      }
    },
    {
      "cell_type": "markdown",
      "source": [
        "## Python での作業\n",
        "Colaboratory は、[Jupyter Notebook](https://jupyter.org/) の上に構築されています。以下は、提供されている便利な機能の例です。"
      ],
      "metadata": {
        "id": "RROSKGwzOYxS"
      }
    },
    {
      "cell_type": "markdown",
      "source": [
        "長時間実行されている Python プロセスが中断される可能性があります。次のセルを実行し、ランタイム -> 実行を中断 (ショートカットキー: Cmd/Ctrl-M I) を選択して実行を停止します。"
      ],
      "metadata": {
        "id": "iGyMpWFTOuah"
      }
    },
    {
      "cell_type": "code",
      "source": [
        "import time\n",
        "print(\"Sleeping\")\n",
        "time.sleep(30) # sleep for a while; interrupt me!\n",
        "print(\"Done Sleeping\")"
      ],
      "metadata": {
        "colab": {
          "base_uri": "https://localhost:8080/",
          "height": 240
        },
        "id": "Mg56gvQXO40O",
        "outputId": "df13f8c7-307e-427b-acd1-e2e60fe09ae0"
      },
      "execution_count": null,
      "outputs": [
        {
          "output_type": "stream",
          "name": "stdout",
          "text": [
            "Sleeping\n"
          ]
        },
        {
          "output_type": "error",
          "ename": "KeyboardInterrupt",
          "evalue": "ignored",
          "traceback": [
            "\u001b[0;31m---------------------------------------------------------------------------\u001b[0m",
            "\u001b[0;31mKeyboardInterrupt\u001b[0m                         Traceback (most recent call last)",
            "\u001b[0;32m<ipython-input-4-fb6d98dc021a>\u001b[0m in \u001b[0;36m<module>\u001b[0;34m\u001b[0m\n\u001b[1;32m      1\u001b[0m \u001b[0;32mimport\u001b[0m \u001b[0mtime\u001b[0m\u001b[0;34m\u001b[0m\u001b[0;34m\u001b[0m\u001b[0m\n\u001b[1;32m      2\u001b[0m \u001b[0mprint\u001b[0m\u001b[0;34m(\u001b[0m\u001b[0;34m\"Sleeping\"\u001b[0m\u001b[0;34m)\u001b[0m\u001b[0;34m\u001b[0m\u001b[0;34m\u001b[0m\u001b[0m\n\u001b[0;32m----> 3\u001b[0;31m \u001b[0mtime\u001b[0m\u001b[0;34m.\u001b[0m\u001b[0msleep\u001b[0m\u001b[0;34m(\u001b[0m\u001b[0;36m30\u001b[0m\u001b[0;34m)\u001b[0m \u001b[0;31m# sleep for a while; interrupt me!\u001b[0m\u001b[0;34m\u001b[0m\u001b[0;34m\u001b[0m\u001b[0m\n\u001b[0m\u001b[1;32m      4\u001b[0m \u001b[0mprint\u001b[0m\u001b[0;34m(\u001b[0m\u001b[0;34m\"Done Sleeping\"\u001b[0m\u001b[0;34m)\u001b[0m\u001b[0;34m\u001b[0m\u001b[0;34m\u001b[0m\u001b[0m\n",
            "\u001b[0;31mKeyboardInterrupt\u001b[0m: "
          ]
        }
      ]
    },
    {
      "cell_type": "markdown",
      "source": [
        "### 例外のフォーマット"
      ],
      "metadata": {
        "id": "pYmmnn62QpSa"
      }
    },
    {
      "cell_type": "markdown",
      "source": [
        "例外は、Colab 出力で適切にフォーマットされます。"
      ],
      "metadata": {
        "id": "OeW06QcRQyl7"
      }
    },
    {
      "cell_type": "code",
      "source": [
        "x = 1\n",
        "y = 4\n",
        "z = y/(1-x)"
      ],
      "metadata": {
        "collapsed": true,
        "id": "nCnGgYvPPaaS"
      },
      "execution_count": null,
      "outputs": []
    },
    {
      "cell_type": "markdown",
      "source": [
        "### リッチでインタラクティブな出力\n",
        "これまで、生成された出力はすべてテキストでしたが、下のグラフのように、より興味深いものになる可能性があります。"
      ],
      "metadata": {
        "id": "Bj65cVrWQ9tb"
      }
    },
    {
      "cell_type": "code",
      "source": [
        "import numpy as np\n",
        "from matplotlib import pyplot as plt\n",
        "\n",
        "ys = 200 + np.random.randn(100)\n",
        "x = [x for x in range(len(ys))]\n",
        "\n",
        "plt.plot(x, ys, '-')\n",
        "plt.fill_between(x, ys, 195, where=(ys > 195), facecolor='g', alpha=0.6)\n",
        "\n",
        "plt.title(\"Fills and Alpha Example\")\n",
        "plt.show()"
      ],
      "metadata": {
        "id": "vnrtnUM2RG8Y",
        "outputId": "56c77136-3dec-4184-a938-250d99ff53d8",
        "colab": {
          "base_uri": "https://localhost:8080/",
          "height": 281
        }
      },
      "execution_count": null,
      "outputs": [
        {
          "output_type": "display_data",
          "data": {
            "text/plain": [
              "<Figure size 432x288 with 1 Axes>"
            ],
            "image/png": "[encoded data removed]"
          },
          "metadata": {
            "needs_background": "light"
          }
        }
      ]
    }
  ]
}