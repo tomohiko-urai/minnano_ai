{
  "nbformat": 4,
  "nbformat_minor": 0,
  "metadata": {
    "colab": {
      "provenance": [],
      "include_colab_link": true
    },
    "kernelspec": {
      "name": "python3",
      "display_name": "Python 3"
    },
    "language_info": {
      "name": "python"
    }
  },
  "cells": [
    {
      "cell_type": "markdown",
      "metadata": {
        "id": "view-in-github",
        "colab_type": "text"
      },
      "source": [
        "<a href=\"https://colab.research.google.com/github/tomohiko-urai/minnano_ai/blob/master/03_Image_Download.ipynb\" target=\"_parent\"><img src=\"https://colab.research.google.com/assets/colab-badge.svg\" alt=\"Open In Colab\"/></a>"
      ]
    },
    {
      "cell_type": "markdown",
      "source": [
        "# URLで指定した画像を名前を付けてダウンロードする\n",
        "\n",
        "!wget  \\[URL\\]  -O  \\[filename\\]"
      ],
      "metadata": {
        "id": "YcIwgk_zMNgG"
      }
    },
    {
      "cell_type": "code",
      "execution_count": null,
      "metadata": {
        "colab": {
          "base_uri": "https://localhost:8080/"
        },
        "id": "hX-sS8DlKKcd",
        "outputId": "6d9ef67b-fb6e-412a-cd4a-3059226eb5e6"
      },
      "outputs": [
        {
          "output_type": "stream",
          "name": "stdout",
          "text": [
            "--2023-02-11 01:57:42--  https://source.unsplash.com/phIFdC6lA4E\n",
            "Resolving source.unsplash.com (source.unsplash.com)... 54.91.59.199, 3.220.57.224, 3.232.242.170, ...\n",
            "Connecting to source.unsplash.com (source.unsplash.com)|54.91.59.199|:443... connected.\n",
            "HTTP request sent, awaiting response... 302 Found\n",
            "Location: https://images.unsplash.com/photo-1519681393784-d120267933ba?crop=entropy&cs=tinysrgb&fit=max&fm=jpg&ixid=MnwxfDB8MXxyYW5kb218MHx8fHx8fHx8MTY3MzUxOTQ4Nw&ixlib=rb-4.0.3&q=80&utm_campaign=api-credit&utm_medium=referral&utm_source=unsplash_source&w=1080 [following]\n",
            "--2023-02-11 01:57:43--  https://images.unsplash.com/photo-1519681393784-d120267933ba?crop=entropy&cs=tinysrgb&fit=max&fm=jpg&ixid=MnwxfDB8MXxyYW5kb218MHx8fHx8fHx8MTY3MzUxOTQ4Nw&ixlib=rb-4.0.3&q=80&utm_campaign=api-credit&utm_medium=referral&utm_source=unsplash_source&w=1080\n",
            "Resolving images.unsplash.com (images.unsplash.com)... 146.75.38.208, 2a04:4e42:78::720\n",
            "Connecting to images.unsplash.com (images.unsplash.com)|146.75.38.208|:443... connected.\n",
            "HTTP request sent, awaiting response... 200 OK\n",
            "Length: 165809 (162K) [image/jpeg]\n",
            "Saving to: ‘image.jpeg’\n",
            "\n",
            "\rimage.jpeg            0%[                    ]       0  --.-KB/s               \rimage.jpeg          100%[===================>] 161.92K  --.-KB/s    in 0.007s  \n",
            "\n",
            "2023-02-11 01:57:43 (23.8 MB/s) - ‘image.jpeg’ saved [165809/165809]\n",
            "\n"
          ]
        }
      ],
      "source": [
        "!wget https://source.unsplash.com/phIFdC6lA4E -O image.jpeg"
      ]
    }
  ]
}